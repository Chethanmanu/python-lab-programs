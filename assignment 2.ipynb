{
 "cells": [
  {
   "cell_type": "code",
   "execution_count": 1,
   "id": "2ee0fff7",
   "metadata": {},
   "outputs": [
    {
     "name": "stdout",
     "output_type": "stream",
     "text": [
      "Hello world   python programming\n"
     ]
    }
   ],
   "source": [
    "var1 = 'Hello world'\n",
    "var2 =\"python programming\"\n",
    "print(var1,\" \",var2)"
   ]
  },
  {
   "cell_type": "code",
   "execution_count": 3,
   "id": "0a4fbd4d",
   "metadata": {},
   "outputs": [
    {
     "name": "stdout",
     "output_type": "stream",
     "text": [
      "H\n",
      "pyton prog\n"
     ]
    }
   ],
   "source": [
    "var1 = 'Hello world'\n",
    "var2 = \"pyton programming\"\n",
    "print (var1[0])\n",
    "\n",
    "print(var2[0:10])"
   ]
  },
  {
   "cell_type": "code",
   "execution_count": 6,
   "id": "647e0abd",
   "metadata": {},
   "outputs": [
    {
     "name": "stdout",
     "output_type": "stream",
     "text": [
      "updated string :  hello chethan\n"
     ]
    }
   ],
   "source": [
    "var1 = 'hello world'\n",
    "print (\"updated string : \",var1[0:6] + 'chethan')"
   ]
  },
  {
   "cell_type": "code",
   "execution_count": 8,
   "id": "0f310221",
   "metadata": {},
   "outputs": [
    {
     "name": "stdout",
     "output_type": "stream",
     "text": [
      "plese enter your own string : hello chethan\n",
      "the final string : str2 =  hello chethan\n",
      "the final string : str3 = =  hello chethan\n",
      "the final string : str4 = =  llo \n"
     ]
    }
   ],
   "source": [
    "str1 = input(\"plese enter your own string : \")\n",
    "\n",
    "str2 = str1\n",
    "str3 = str1[:]\n",
    "str4 = str1[2:6]\n",
    "\n",
    "print(\"the final string : str2 = \",str2)\n",
    "print(\"the final string : str3 = = \", str3)\n",
    "print(\"the final string : str4 = = \", str4)"
   ]
  },
  {
   "cell_type": "code",
   "execution_count": 9,
   "id": "85527e73",
   "metadata": {},
   "outputs": [
    {
     "name": "stdout",
     "output_type": "stream",
     "text": [
      "str.capitalize() :  This is string example....wow!!!!\n"
     ]
    }
   ],
   "source": [
    "#python string capitalize() method returns a copy of the string with only its first character capitalized.\n",
    "str = \"this is string example....wow!!!!\";\n",
    "print(\"str.capitalize() : \", str.capitalize())"
   ]
  },
  {
   "cell_type": "code",
   "execution_count": 10,
   "id": "9f5d0b42",
   "metadata": {},
   "outputs": [
    {
     "name": "stdout",
     "output_type": "stream",
     "text": [
      "str.center(40, 'a') :  ****this is string example....wow!!!****\n"
     ]
    }
   ],
   "source": [
    "#center() returns centered in a string of length width. padding is done using of specified fillchar. default file\n",
    "\n",
    "str = \"this is string example....wow!!!\"\n",
    "print(\"str.center(40, 'a') : \",str.center(40, '*'))"
   ]
  },
  {
   "cell_type": "code",
   "execution_count": 11,
   "id": "056a79ec",
   "metadata": {},
   "outputs": [
    {
     "name": "stdout",
     "output_type": "stream",
     "text": [
      "2\n",
      "-1\n",
      "-1\n"
     ]
    }
   ],
   "source": [
    "#count() returns the number of occurence of substring sub in the range [start, end].\n",
    "#str.count(sub, start=0,end=len(string))\n",
    "\n",
    "str1 = \"this is the string example....wow!!!\";\n",
    "str2 = \"is\";\n",
    "\n",
    "print (str1.find(str2))\n",
    "print (str1.find(str2, 10))\n",
    "print (str1.find(str2, 40))"
   ]
  },
  {
   "cell_type": "code",
   "execution_count": 12,
   "id": "4eea4cb7",
   "metadata": {},
   "outputs": [
    {
     "name": "stdout",
     "output_type": "stream",
     "text": [
      "True\n",
      "False\n"
     ]
    }
   ],
   "source": [
    "#islnum() checks whether the string consists of alphanumeric characters.\n",
    "str = \"this2009\"; # no space in this string\n",
    "print (str.isalnum())\n",
    "\n",
    "str = \"this is string example...wow!!!\";\n",
    "print (str.isalnum())"
   ]
  },
  {
   "cell_type": "code",
   "execution_count": 13,
   "id": "5455fb56",
   "metadata": {},
   "outputs": [
    {
     "name": "stdout",
     "output_type": "stream",
     "text": [
      "True\n",
      "False\n"
     ]
    }
   ],
   "source": [
    "str = \"chethan\"; #no space & space & digit in this string\n",
    "print(str.isalpha())\n",
    "\n",
    "str = \"this is string example...wow!!!\";\n",
    "print (str.isalpha())"
   ]
  },
  {
   "cell_type": "code",
   "execution_count": 14,
   "id": "57cfec6c",
   "metadata": {},
   "outputs": [
    {
     "name": "stdout",
     "output_type": "stream",
     "text": [
      "True\n",
      "False\n"
     ]
    }
   ],
   "source": [
    "str = \"12345567\"; #only digit in the string\n",
    "print (str.isdigit())\n",
    "\n",
    "str = \"this is string example....wow!!!\";\n",
    "print (str.isdigit())"
   ]
  },
  {
   "cell_type": "code",
   "execution_count": 15,
   "id": "4bf614b1",
   "metadata": {},
   "outputs": [
    {
     "name": "stdout",
     "output_type": "stream",
     "text": [
      "True\n",
      "True\n"
     ]
    }
   ],
   "source": [
    "str = \"this is string example....wow!!!\";\n",
    "print (str.islower())\n",
    "\n",
    "str = \"23443434\";\n",
    "print (str.isnumeric())"
   ]
  },
  {
   "cell_type": "code",
   "execution_count": 16,
   "id": "dfa0a437",
   "metadata": {},
   "outputs": [
    {
     "name": "stdout",
     "output_type": "stream",
     "text": [
      "True\n",
      "False\n"
     ]
    }
   ],
   "source": [
    "str = \" \";\n",
    "print (str.isspace())\n",
    "\n",
    "str =\" this is string example...wow!!!\";\n",
    "print (str.isspace())"
   ]
  },
  {
   "cell_type": "code",
   "execution_count": 17,
   "id": "186c15df",
   "metadata": {},
   "outputs": [
    {
     "name": "stdout",
     "output_type": "stream",
     "text": [
      "abc * * bttt * * cqweqe\n"
     ]
    }
   ],
   "source": [
    "#join() returns a string in which the string elements of sequence have been joined by str separator.\n",
    "s = \" * * \";\n",
    "seq = (\"abc\", \"bttt\", \"cqweqe\");#this is sequence of string\n",
    "s = \" * * \";\n",
    "seq = (\"abc\", \"bttt\", \"cqweqe\"); # this is sequence of strings.\n",
    "print (s.join(seq))"
   ]
  },
  {
   "cell_type": "code",
   "execution_count": 18,
   "id": "d966f49b",
   "metadata": {},
   "outputs": [
    {
     "name": "stdout",
     "output_type": "stream",
     "text": [
      "this is string example...wow!!!  \n",
      "this is string example...wow!!!99999999\n",
      "888888888this is string example...wow!!!\n"
     ]
    }
   ],
   "source": [
    "#lstrip() returns a copy of the string in which all chars have been stripped from the beginning of the string(default)\n",
    "str = \"  this is string example...wow!!!  \";\n",
    "print (str.lstrip())\n",
    "str =\"888888888this is string example...wow!!!99999999\";\n",
    "print (str.lstrip('8'))\n",
    "print(str.rstrip('9'))"
   ]
  },
  {
   "cell_type": "code",
   "execution_count": 19,
   "id": "df597a7f",
   "metadata": {},
   "outputs": [
    {
     "name": "stdout",
     "output_type": "stream",
     "text": [
      "this is string example....wow!!!\n"
     ]
    }
   ],
   "source": [
    "str = \"This is string example....wow!!!\";\n",
    "print (str.lower())"
   ]
  },
  {
   "cell_type": "code",
   "execution_count": 20,
   "id": "c19eb031",
   "metadata": {},
   "outputs": [
    {
     "name": "stdout",
     "output_type": "stream",
     "text": [
      "max character: w\n",
      "max character: s\n"
     ]
    }
   ],
   "source": [
    "#returns largest character\n",
    "str = \"check....wow!!!!\";\n",
    "print (\"max character: \" + max(str))\n",
    "\n",
    "str =\"shabnam...!!!!\";\n",
    "print (\"max character: \"+max(str))"
   ]
  },
  {
   "cell_type": "code",
   "execution_count": 21,
   "id": "d463b8a4",
   "metadata": {},
   "outputs": [
    {
     "name": "stdout",
     "output_type": "stream",
     "text": [
      "thwas was string example....wow!!! thwas was really string\n",
      "thwas was string example....wow!!! thwas is really string\n"
     ]
    }
   ],
   "source": [
    "#str.replace(old, new[, max])\n",
    "\n",
    "str =\"this is string example....wow!!! this is really string\"\n",
    "print(str.replace(\"is\",\"was\"))\n",
    "print(str.replace(\"is\", \"was\", 3))"
   ]
  },
  {
   "cell_type": "code",
   "execution_count": 22,
   "id": "27fdb994",
   "metadata": {},
   "outputs": [
    {
     "name": "stdout",
     "output_type": "stream",
     "text": [
      "True\n",
      "True\n",
      "False\n"
     ]
    }
   ],
   "source": [
    "str = \"this is string example....wow!!!\";\n",
    "print (str.startswith( 'this'))\n",
    "print (str.startswith( 'is',2, 4 ))\n",
    "print (str.startswith( 'this',2, 4))"
   ]
  },
  {
   "cell_type": "code",
   "execution_count": null,
   "id": "902f128c",
   "metadata": {},
   "outputs": [],
   "source": []
  },
  {
   "cell_type": "code",
   "execution_count": 23,
   "id": "e9742c49",
   "metadata": {},
   "outputs": [
    {
     "name": "stdout",
     "output_type": "stream",
     "text": [
      "str.capitalize() :  THIS IS STRING EXAMPLE...WOW!!!\n"
     ]
    }
   ],
   "source": [
    "str = \"this is string example...wow!!!\";\n",
    "print (\"str.capitalize() : \",str.upper())"
   ]
  },
  {
   "cell_type": "code",
   "execution_count": 24,
   "id": "2b5460e9",
   "metadata": {},
   "outputs": [
    {
     "name": "stdout",
     "output_type": "stream",
     "text": [
      "THIS IS STRING EXAMPLE....WOW!!!\n",
      "tHIS IS STRING EXAMPLE.....WOW!!!\n"
     ]
    }
   ],
   "source": [
    "str = \"this is string example....wow!!!\";\n",
    "print (str.swapcase())\n",
    "\n",
    "str = \"This is string example.....wow!!!\";\n",
    "print (str.swapcase())"
   ]
  }
 ],
 "metadata": {
  "kernelspec": {
   "display_name": "Python 3",
   "language": "python",
   "name": "python3"
  },
  "language_info": {
   "codemirror_mode": {
    "name": "ipython",
    "version": 3
   },
   "file_extension": ".py",
   "mimetype": "text/x-python",
   "name": "python",
   "nbconvert_exporter": "python",
   "pygments_lexer": "ipython3",
   "version": "3.8.8"
  }
 },
 "nbformat": 4,
 "nbformat_minor": 5
}
