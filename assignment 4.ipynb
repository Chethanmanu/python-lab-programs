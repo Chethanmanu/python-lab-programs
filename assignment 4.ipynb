{
 "cells": [
  {
   "cell_type": "code",
   "execution_count": 4,
   "id": "ffecc624",
   "metadata": {},
   "outputs": [
    {
     "name": "stdout",
     "output_type": "stream",
     "text": [
      "chethan\n",
      "b-tech\n"
     ]
    }
   ],
   "source": [
    "dict={'name':'chethan','designation':'student','qual':'b-tech','univ':'cmr'}\n",
    "print(dict['name'])\n",
    "\n",
    "\n",
    "print(dict['qual'])"
   ]
  },
  {
   "cell_type": "code",
   "execution_count": 3,
   "id": "c7663c39",
   "metadata": {},
   "outputs": [
    {
     "name": "stdout",
     "output_type": "stream",
     "text": [
      "sharma\n",
      "cse7sem\n"
     ]
    }
   ],
   "source": [
    "dict={'name':'chethan','designation':'student','qual':'b-tech','univ':'cmr'}\n",
    "\n",
    "dict['name']='chethan'\n",
    "\n",
    "print(dict['name'])\n",
    "\n",
    "dict['class']='cse7sem'\n",
    "\n",
    "print(dict['class'])"
   ]
  },
  {
   "cell_type": "code",
   "execution_count": 5,
   "id": "56db1cb2",
   "metadata": {},
   "outputs": [],
   "source": [
    "dict={'name':'chethan','designation':'student','qual':'b-tech','univ':'cmr'}\n",
    "\n",
    "\n",
    "del dict['designation']\n",
    "\n",
    "#print(dict['designation'])\n",
    "\n",
    "dict.clear()\n",
    "\n",
    "#print(dict['name'])\n",
    "\n",
    "del dict"
   ]
  },
  {
   "cell_type": "code",
   "execution_count": 6,
   "id": "66b25441",
   "metadata": {},
   "outputs": [
    {
     "name": "stdout",
     "output_type": "stream",
     "text": [
      "abhi\n",
      "4\n"
     ]
    }
   ],
   "source": [
    "dict={'name':'chethan','designation':'student','qual':'b-tech','univ':'cmr', 'name':'abhi'}\n",
    "\n",
    "\n",
    "print(dict['name'])\n",
    "\n",
    "print(len(dict))"
   ]
  },
  {
   "cell_type": "code",
   "execution_count": 7,
   "id": "1cb7a266",
   "metadata": {},
   "outputs": [
    {
     "name": "stdout",
     "output_type": "stream",
     "text": [
      "dict_values(['abhi', 'student', 'b-tech', 'cmr'])\n",
      "dict_items([('name', 'abhi'), ('designation', 'student'), ('qual', 'b-tech'), ('univ', 'cmr')])\n",
      "dict_keys(['name', 'designation', 'qual', 'univ'])\n"
     ]
    }
   ],
   "source": [
    "dict={'name':'chethan','designation':'student','qual':'b-tech','univ':'cmr', 'name':'abhi'}\n",
    "\n",
    "\n",
    "print(dict.values())\n",
    "\n",
    "print(dict.items())\n",
    "\n",
    "print(dict.keys())"
   ]
  },
  {
   "cell_type": "code",
   "execution_count": 8,
   "id": "36553f1c",
   "metadata": {},
   "outputs": [
    {
     "name": "stdout",
     "output_type": "stream",
     "text": [
      "amb\n",
      "nothing\n"
     ]
    }
   ],
   "source": [
    "dict={'name':'chethan','designation':'student','qual':'b-tech','univ':'cmr', 'name':'amb'}\n",
    "\n",
    "\n",
    "print(dict['name'])\n",
    "\n",
    "print(dict.get('edu',\"nothing\"))"
   ]
  },
  {
   "cell_type": "code",
   "execution_count": 9,
   "id": "fd9ceca6",
   "metadata": {},
   "outputs": [
    {
     "name": "stdout",
     "output_type": "stream",
     "text": [
      "amb\n",
      "4\n"
     ]
    }
   ],
   "source": [
    "dict={'name':'chethan','designation':'student','qual':'b-tech','univ':'cmr', 'name':'amb'}\n",
    "\n",
    "\n",
    "dict2=dict.copy()\n",
    "\n",
    "print(dict2['name'])\n",
    "\n",
    "print(len(dict2))"
   ]
  },
  {
   "cell_type": "code",
   "execution_count": 10,
   "id": "5e619ffb",
   "metadata": {},
   "outputs": [
    {
     "name": "stdout",
     "output_type": "stream",
     "text": [
      "{'name': 'abhi', 'designation': 'student', 'qual': 'b-tech', 'univ': 'cmr'}\n",
      "{'edu': 'btech-mtech', 'students': '7sem'}\n",
      "{'name': 'abhi', 'designation': 'student', 'qual': 'b-tech', 'univ': 'cmr', 'edu': 'btech-mtech', 'students': '7sem'}\n"
     ]
    }
   ],
   "source": [
    "dict={'name':'chethan','designation':'student','qual':'b-tech','univ':'cmr', 'name':'abhi'}\n",
    "\n",
    "\n",
    "dict2={'edu':'btech-mtech','students':'7sem'}\n",
    "\n",
    "print(dict)\n",
    "print(dict2)\n",
    "\n",
    "dict.update(dict2)\n",
    "\n",
    "print(dict)"
   ]
  },
  {
   "cell_type": "code",
   "execution_count": null,
   "id": "4aee2553",
   "metadata": {},
   "outputs": [],
   "source": []
  }
 ],
 "metadata": {
  "kernelspec": {
   "display_name": "Python 3",
   "language": "python",
   "name": "python3"
  },
  "language_info": {
   "codemirror_mode": {
    "name": "ipython",
    "version": 3
   },
   "file_extension": ".py",
   "mimetype": "text/x-python",
   "name": "python",
   "nbconvert_exporter": "python",
   "pygments_lexer": "ipython3",
   "version": "3.8.8"
  }
 },
 "nbformat": 4,
 "nbformat_minor": 5
}
