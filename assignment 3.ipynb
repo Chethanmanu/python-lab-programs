{
 "cells": [
  {
   "cell_type": "code",
   "execution_count": 1,
   "id": "5dabe885",
   "metadata": {},
   "outputs": [
    {
     "name": "stdout",
     "output_type": "stream",
     "text": [
      "\"Do you want to recharge?\n",
      "Press Y for yes and any other key for noy\n",
      "Press 1 for prepaid and any other key for postpaid1\n",
      "Enter mobile no7760651660\n",
      "choose your operator\n",
      "1. Airtel\n",
      "2. Jio\n",
      "3. VI1\n",
      "Choose a recharge amt\n",
      "199 : 2 GB data/day for 1 month\n",
      "299 : 2 GB data/day for 2 month\n",
      " 399 : 2gb data/day for 3 months399\n",
      "press 1 to confirm any other key to cancel1\n",
      "your recharge for no 7760651660 for amt 399 has been successfull!!\n"
     ]
    }
   ],
   "source": [
    "ch=str(input(\"\\\"Do you want to recharge?\\nPress Y for yes and any other key for no\")) \n",
    "if ch=='Y' or ch=='y':\n",
    "    opt=int(input(\"Press 1 for prepaid and any other key for postpaid\"))\n",
    "    if opt==1:\n",
    "        no=int (input (\"Enter mobile no\"))\n",
    "        operator=int(input(\"choose your operator\\n1. Airtel\\n2. Jio\\n3. VI\")) \n",
    "        amt=int(input(\"Choose a recharge amt\\n199 : 2 GB data/day for 1 month\\n299 : 2 GB data/day for 2 month\\n 399 : 2gb data/day for 3 months\"))\n",
    "        confirm=int(input(\"press 1 to confirm any other key to cancel\"))\n",
    "        if confirm==1:\n",
    "            print(\"your recharge for no {} for amt {} has been successfull!!\".format(no, amt))"
   ]
  },
  {
   "cell_type": "code",
   "execution_count": null,
   "id": "ecaa7d7f",
   "metadata": {},
   "outputs": [],
   "source": []
  }
 ],
 "metadata": {
  "kernelspec": {
   "display_name": "Python 3",
   "language": "python",
   "name": "python3"
  },
  "language_info": {
   "codemirror_mode": {
    "name": "ipython",
    "version": 3
   },
   "file_extension": ".py",
   "mimetype": "text/x-python",
   "name": "python",
   "nbconvert_exporter": "python",
   "pygments_lexer": "ipython3",
   "version": "3.8.8"
  }
 },
 "nbformat": 4,
 "nbformat_minor": 5
}
